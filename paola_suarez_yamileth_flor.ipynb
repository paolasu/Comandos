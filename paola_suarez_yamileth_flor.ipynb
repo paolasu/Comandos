{
  "nbformat": 4,
  "nbformat_minor": 0,
  "metadata": {
    "colab": {
      "provenance": [],
      "authorship_tag": "ABX9TyP3rNXG37uZGD9oNitgnihf",
      "include_colab_link": true
    },
    "kernelspec": {
      "name": "python3",
      "display_name": "Python 3"
    },
    "language_info": {
      "name": "python"
    }
  },
  "cells": [
    {
      "cell_type": "markdown",
      "metadata": {
        "id": "view-in-github",
        "colab_type": "text"
      },
      "source": [
        "<a href=\"https://colab.research.google.com/github/paolasu/Comandos/blob/main/paola_suarez_yamileth_flor.ipynb\" target=\"_parent\"><img src=\"https://colab.research.google.com/assets/colab-badge.svg\" alt=\"Open In Colab\"/></a>"
      ]
    },
    {
      "cell_type": "code",
      "execution_count": null,
      "metadata": {
        "colab": {
          "base_uri": "https://localhost:8080/"
        },
        "id": "WBdyBYLQOgZ3",
        "outputId": "e4b93239-ef11-48bd-e002-b46fd46b3fb2"
      },
      "outputs": [
        {
          "name": "stdout",
          "output_type": "stream",
          "text": [
            " indique cuantas materias cursa  2\n",
            "Introduzca las materias: kk\n",
            "Introduzca las materias: ddd\n",
            "Las materias que cursa son: ['ddd', 'kk']\n",
            "¿Qué nota has sacado en ddd?5\n",
            "¿Qué nota has sacado en kk?3\n"
          ]
        }
      ],
      "source": [
        "cant = (int (input(\" indique cuantas materias cursa  \")))\n",
        "Materias = []\n",
        "for i in range (cant):\n",
        "  Materias.append(input (\"Introduzca las materias: \"))\n",
        "  Materias.sort()\n",
        "print (\"Las materias que cursa son: \" + str(Materias) )\n",
        "\n",
        "\n"
      ]
    },
    {
      "cell_type": "code",
      "source": [
        "cant = (int (input(\" indique cuantas materias cursa  \")))\n",
        "Materias = []\n",
        "for i in range (cant):\n",
        "  Materias.append(input (\"Introduzca las materias: \"))\n",
        "  Materias.sort()\n",
        "print (\"Las materias que cursa son: \" + str(Materias) )\n",
        "\n",
        "scores = []\n",
        "\n",
        "for subject in Materias:\n",
        "    score = input(\"¿Qué nota has sacado en \" + subject + \"?\")\n",
        "    scores.append(score)"
      ],
      "metadata": {
        "id": "tyDO4THKYLvr"
      },
      "execution_count": null,
      "outputs": []
    },
    {
      "cell_type": "code",
      "source": [
        "cant = (int (input(\" indique cuantas materias cursa  \")))\n",
        "Materias = []\n",
        "\n",
        "for i in range (cant):\n",
        "  Materias.append(input (\"Introduzca las materias: \"))\n",
        "  Materias.sort()\n",
        "print (\"Las materias que cursa son: \" + str(Materias) )\n",
        "\n",
        "scores = []\n",
        "\n",
        "for subject in Materias:\n",
        "    score = int ( input(\"¿Qué nota has sacado en \" + subject + \"?\"))\n",
        "    scores.append(score)\n",
        "    \n",
        "      \n",
        "\n",
        "Notaapro= [] \n",
        "Notarepro= []  \n",
        "\n",
        "for i in range (len(Materias)):\n",
        "  if scores [i]  < 3 :\n",
        "    Notarepro.append (Materias[i])\n",
        "  else:\n",
        "    Notaapro.append (Materias[i])\n",
        "\n",
        "print(\"Las materias  aprovadas son\",Notaapro)\n",
        "print(\"Las materias reprobadas son\",Notarepro)\n",
        "\n"
      ],
      "metadata": {
        "colab": {
          "base_uri": "https://localhost:8080/"
        },
        "id": "wfgeKATeYNEs",
        "outputId": "561561ce-02ab-43c4-82be-0e5424b9fd00"
      },
      "execution_count": null,
      "outputs": [
        {
          "output_type": "stream",
          "name": "stdout",
          "text": [
            " indique cuantas materias cursa  2\n",
            "Introduzca las materias: ll\n",
            "Introduzca las materias: mmm\n",
            "Las materias que cursa son: ['ll', 'mmm']\n",
            "¿Qué nota has sacado en ll?2\n",
            "¿Qué nota has sacado en mmm?3\n",
            "Las materias  aprovadas son ['mmm']\n",
            "Las materias reprobadas son ['ll']\n"
          ]
        }
      ]
    },
    {
      "cell_type": "code",
      "source": [],
      "metadata": {
        "id": "pqAyCgoz1Crs"
      },
      "execution_count": null,
      "outputs": []
    },
    {
      "cell_type": "code",
      "source": [
        "word = input(\"Introduce una palabra: \")\n",
        "reversed_word = word\n",
        "word = list(word)\n",
        "reversed_word = list(reversed_word)\n",
        "reversed_word.reverse()\n",
        "if word == reversed_word:\n",
        "    print(\"Es un palíndromo\")\n",
        "else:\n",
        "    print(\"No es un palíndromo\")"
      ],
      "metadata": {
        "colab": {
          "base_uri": "https://localhost:8080/"
        },
        "id": "ZcHKlzwp05Xo",
        "outputId": "1c3e76ee-c8ba-46af-a1ac-fd5e3b919fd3"
      },
      "execution_count": null,
      "outputs": [
        {
          "output_type": "stream",
          "name": "stdout",
          "text": [
            "Introduce una palabra: arañara\n",
            "Es un palíndromo\n"
          ]
        }
      ]
    },
    {
      "cell_type": "code",
      "source": [
        "vectores = (int (input(\" cuantos vectores son? \")))\n",
        "Vector = []\n",
        "product = 0\n",
        "for i in range (vectores):\n",
        "  Vector.append(int(input (\"Intoduzca los vectores\")))\n",
        "  Vector.sort()\n",
        "  for i in range(len(a)):\n",
        "    product += a[i]*b[i]\n",
        "print(\"El producto de los vectores\" + str(a) + \" y \" + str(b) + \" es \" + str(product)) \n"
      ],
      "metadata": {
        "colab": {
          "base_uri": "https://localhost:8080/"
        },
        "id": "k60r_vv45F8F",
        "outputId": "f5cfa282-8c56-4224-8e2d-d47a7f29d77a"
      },
      "execution_count": null,
      "outputs": [
        {
          "name": "stdout",
          "output_type": "stream",
          "text": [
            " cuantos vectores son? 2\n",
            "Intoduzca los vectores3\n",
            "Intoduzca los vectores4\n"
          ]
        }
      ]
    },
    {
      "cell_type": "code",
      "source": [
        "sample = input(\"Introduce una muestra de números separados por comas: \")\n",
        "sample = sample.split(',')\n",
        "n = len(sample)\n",
        "for i in range(n):\n",
        "    sample[i] = int(sample[i])\n",
        "sample = tuple(sample)\n",
        "sum = 0\n",
        "sumsq = 0\n",
        "for i in sample:\n",
        "    sum += i\n",
        "    sumsq += i**2\n",
        "mean = sum/n\n",
        "stdev = (sumsq/n-mean**2)**(1/2)\n",
        "print('La media es', mean, ', y la desviación típica es', stdev)"
      ],
      "metadata": {
        "colab": {
          "base_uri": "https://localhost:8080/"
        },
        "id": "i5XHgZdGooxS",
        "outputId": "cfeb1557-73e9-43ea-8a8f-2d17ebc1182a"
      },
      "execution_count": 7,
      "outputs": [
        {
          "output_type": "stream",
          "name": "stdout",
          "text": [
            "Introduce una muestra de números separados por comas: 2,3\n",
            "La media es 2.5 , y la desviación típica es 0.5\n"
          ]
        }
      ]
    }
  ]
}