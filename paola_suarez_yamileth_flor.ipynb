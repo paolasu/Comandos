{
  "nbformat": 4,
  "nbformat_minor": 0,
  "metadata": {
    "colab": {
      "provenance": [],
      "collapsed_sections": [],
      "authorship_tag": "ABX9TyPKzEVAqOI18atfNQ8KT3pj",
      "include_colab_link": true
    },
    "kernelspec": {
      "name": "python3",
      "display_name": "Python 3"
    },
    "language_info": {
      "name": "python"
    }
  },
  "cells": [
    {
      "cell_type": "markdown",
      "metadata": {
        "id": "view-in-github",
        "colab_type": "text"
      },
      "source": [
        "<a href=\"https://colab.research.google.com/github/paolasu/Comandos/blob/main/paola_suarez_yamileth_flor.ipynb\" target=\"_parent\"><img src=\"https://colab.research.google.com/assets/colab-badge.svg\" alt=\"Open In Colab\"/></a>"
      ]
    },
    {
      "cell_type": "code",
      "execution_count": null,
      "metadata": {
        "colab": {
          "base_uri": "https://localhost:8080/"
        },
        "id": "WBdyBYLQOgZ3",
        "outputId": "e4b93239-ef11-48bd-e002-b46fd46b3fb2"
      },
      "outputs": [
        {
          "name": "stdout",
          "output_type": "stream",
          "text": [
            " indique cuantas materias cursa  2\n",
            "Introduzca las materias: kk\n",
            "Introduzca las materias: ddd\n",
            "Las materias que cursa son: ['ddd', 'kk']\n",
            "¿Qué nota has sacado en ddd?5\n",
            "¿Qué nota has sacado en kk?3\n"
          ]
        }
      ],
      "source": [
        "cant = (int (input(\" indique cuantas materias cursa  \")))\n",
        "Materias = []\n",
        "for i in range (cant):\n",
        "  Materias.append(input (\"Introduzca las materias: \"))\n",
        "  Materias.sort()\n",
        "print (\"Las materias que cursa son: \" + str(Materias) )\n",
        "\n",
        "\n"
      ]
    },
    {
      "cell_type": "code",
      "source": [
        "cant = (int (input(\" indique cuantas materias cursa  \")))\n",
        "Materias = []\n",
        "for i in range (cant):\n",
        "  Materias.append(input (\"Introduzca las materias: \"))\n",
        "  Materias.sort()\n",
        "print (\"Las materias que cursa son: \" + str(Materias) )\n",
        "\n",
        "scores = []\n",
        "\n",
        "for subject in Materias:\n",
        "    score = input(\"¿Qué nota has sacado en \" + subject + \"?\")\n",
        "    scores.append(score)"
      ],
      "metadata": {
        "id": "tyDO4THKYLvr"
      },
      "execution_count": null,
      "outputs": []
    },
    {
      "cell_type": "code",
      "source": [
        "cant = (int (input(\" indique cuantas materias cursa  \")))\n",
        "Materias = []\n",
        "\n",
        "for i in range (cant):\n",
        "  Materias.append(input (\"Introduzca las materias: \"))\n",
        "  Materias.sort()\n",
        "print (\"Las materias que cursa son: \" + str(Materias) )\n",
        "\n",
        "scores = []\n",
        "\n",
        "for subject in Materias:\n",
        "    score = int ( input(\"¿Qué nota has sacado en \" + subject + \"?\"))\n",
        "    scores.append(score)\n",
        "    \n",
        "      \n",
        "\n",
        "Notaapro= [] \n",
        "Notarepro= []  \n",
        "\n",
        "for i in range (len(Materias)):\n",
        "  if scores [i]  < 3 :\n",
        "    Notarepro.append (Materias[i])\n",
        "  else:\n",
        "    Notaapro.append (Materias[i])\n",
        "\n",
        "print(\"Las materias  aprovadas son\",Notaapro)\n",
        "print(\"Las materias reprobadas son\",Notarepro)\n",
        "\n"
      ],
      "metadata": {
        "colab": {
          "base_uri": "https://localhost:8080/"
        },
        "id": "wfgeKATeYNEs",
        "outputId": "561561ce-02ab-43c4-82be-0e5424b9fd00"
      },
      "execution_count": null,
      "outputs": [
        {
          "output_type": "stream",
          "name": "stdout",
          "text": [
            " indique cuantas materias cursa  2\n",
            "Introduzca las materias: ll\n",
            "Introduzca las materias: mmm\n",
            "Las materias que cursa son: ['ll', 'mmm']\n",
            "¿Qué nota has sacado en ll?2\n",
            "¿Qué nota has sacado en mmm?3\n",
            "Las materias  aprovadas son ['mmm']\n",
            "Las materias reprobadas son ['ll']\n"
          ]
        }
      ]
    },
    {
      "cell_type": "code",
      "source": [],
      "metadata": {
        "id": "pqAyCgoz1Crs"
      },
      "execution_count": null,
      "outputs": []
    },
    {
      "cell_type": "code",
      "source": [
        "word = input(\"Introduce una palabra: \")\n",
        "reversed_word = word\n",
        "word = list(word)\n",
        "reversed_word = list(reversed_word)\n",
        "reversed_word.reverse()\n",
        "if word == reversed_word:\n",
        "    print(\"Es un palíndromo\")\n",
        "else:\n",
        "    print(\"No es un palíndromo\")"
      ],
      "metadata": {
        "colab": {
          "base_uri": "https://localhost:8080/"
        },
        "id": "ZcHKlzwp05Xo",
        "outputId": "1c3e76ee-c8ba-46af-a1ac-fd5e3b919fd3"
      },
      "execution_count": null,
      "outputs": [
        {
          "output_type": "stream",
          "name": "stdout",
          "text": [
            "Introduce una palabra: arañara\n",
            "Es un palíndromo\n"
          ]
        }
      ]
    },
    {
      "cell_type": "code",
      "source": [
        " # # Ejercicio 5\n",
        "\n",
        "import numpy\n",
        "v1str=input(\"Ingrese los valores del vector 1 separados por comas\")\n",
        "v1=v1str.split(',')\n",
        "v1=[float(element)for element in v1]\n",
        "\n",
        "v2str=input(\"Ingrese los valores del vector 2 separados por comas\")\n",
        "v2=v2str.split(',')\n",
        "v2=[float(element)for element in v2]\n",
        "\n",
        "\n",
        "res=numpy.dot(v1,v2)\n",
        "\n",
        "print(\"El producto escalar es:\", res)"
      ],
      "metadata": {
        "colab": {
          "base_uri": "https://localhost:8080/"
        },
        "id": "k60r_vv45F8F",
        "outputId": "dc96b9f6-6f77-4991-f4a5-7c0b51967303"
      },
      "execution_count": 10,
      "outputs": [
        {
          "output_type": "stream",
          "name": "stdout",
          "text": [
            "Ingrese los valores del vector 1 separados por comas2,3\n",
            "Ingrese los valores del vector 2 separados por comas2,5\n",
            "El producto escalar es: 19.0\n"
          ]
        }
      ]
    },
    {
      "cell_type": "code",
      "source": [
        " # # Ejercicio 6\n",
        "\n",
        "import numpy\n",
        "Numeros=[]\n",
        "#numero= input(\"Ingrese un numero si desea continuar, de lo contrario digite la palabra 'fin' \")\n",
        "#Numeros.append(numero)\n",
        "\n",
        "while (True):\n",
        "   \n",
        "    numero=input(\"Ingrese un numero si desea continuar, de lo contrario digite la palabra 'fin' \")\n",
        "    if numero.lower () != (\"fin\"):\n",
        "      Numeros.append(int(numero))\n",
        "    if numero.lower () == (\"fin\"):\n",
        "      #Numeros.pop()\n",
        "      m=numpy.mean(Numeros)\n",
        "      std=numpy.std(Numeros)\n",
        "      print(m)\n",
        "      print(std)\n",
        "      print(Numeros)\n",
        "      break\n"
      ],
      "metadata": {
        "colab": {
          "base_uri": "https://localhost:8080/"
        },
        "id": "i5XHgZdGooxS",
        "outputId": "885151d6-8348-4d0b-af16-ba8f3c97f6fb"
      },
      "execution_count": null,
      "outputs": [
        {
          "name": "stdout",
          "output_type": "stream",
          "text": [
            "Ingrese un numero si desea continuar, de lo contrario digite la palabra 'fin' 2\n",
            "Ingrese un numero si desea continuar, de lo contrario digite la palabra 'fin' 3\n",
            "Ingrese un numero si desea continuar, de lo contrario digite la palabra 'fin' fin\n"
          ]
        }
      ]
    },
    {
      "cell_type": "code",
      "source": [
        "cambio=int(input(\"Ingrese el monto que paga el usuario\"))\n",
        "monto_a_pagar=int(input(\"Ingrese el total a pagar \"))\n",
        "cambio=cambio-monto_a_pagar\n",
        "if (cambio==0):\n",
        " print(\"Es exacto, no es necesario dar cambio\")\n",
        "elif (cambio<0):\n",
        "  print(\"Falta dinero, la cantidad faltante es: \",cambio*-1)\n",
        "else :\n",
        "    print(\"Ha pagado con mas dinero, su cambio es: \",cambio)\n",
        "    denominaciones=[100000,50000,20000,10000,5000,2000,1000,500,200,100,50]\n",
        "    for denominacion in denominaciones:\n",
        "     cantidad=cambio//denominacion\n",
        "     cambio=cambio%denominacion\n",
        "     if cantidad>0:\n",
        "      print(cantidad,\"de \",denominacion)"
      ],
      "metadata": {
        "id": "3ZUt885rrNyv"
      },
      "execution_count": null,
      "outputs": []
    }
  ]
}