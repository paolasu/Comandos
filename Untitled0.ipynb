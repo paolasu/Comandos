{
  "nbformat": 4,
  "nbformat_minor": 0,
  "metadata": {
    "colab": {
      "provenance": [],
      "authorship_tag": "ABX9TyNBqdbba9yW5ivcWlGxOkQ+",
      "include_colab_link": true
    },
    "kernelspec": {
      "name": "python3",
      "display_name": "Python 3"
    },
    "language_info": {
      "name": "python"
    }
  },
  "cells": [
    {
      "cell_type": "markdown",
      "metadata": {
        "id": "view-in-github",
        "colab_type": "text"
      },
      "source": [
        "<a href=\"https://colab.research.google.com/github/paolasu/Comandos/blob/main/Untitled0.ipynb\" target=\"_parent\"><img src=\"https://colab.research.google.com/assets/colab-badge.svg\" alt=\"Open In Colab\"/></a>"
      ]
    },
    {
      "cell_type": "code",
      "execution_count": 1,
      "metadata": {
        "colab": {
          "base_uri": "https://localhost:8080/"
        },
        "id": "_GVXflTNC5mU",
        "outputId": "46fd276e-0088-4394-ace3-f330bb9de195"
      },
      "outputs": [
        {
          "output_type": "stream",
          "name": "stdout",
          "text": [
            "Hola Mundo\n"
          ]
        }
      ],
      "source": [
        "print (\"Hola Mundo\")"
      ]
    },
    {
      "cell_type": "code",
      "source": [
        "\n",
        "name=input(\"ingrese su nombre \")\n",
        "print (\"Hola, como estas\",name)"
      ],
      "metadata": {
        "colab": {
          "base_uri": "https://localhost:8080/"
        },
        "id": "XpcRUaMeDEIl",
        "outputId": "51e56e52-b18c-4fea-a571-1c779d7b9e91"
      },
      "execution_count": 6,
      "outputs": [
        {
          "output_type": "stream",
          "name": "stdout",
          "text": [
            "ingrese su nombre paola\n",
            "Hola, como estas paola\n"
          ]
        }
      ]
    },
    {
      "cell_type": "code",
      "source": [
        "a=float(input(\"ingrese altura\"))\n",
        "alt=a*2\n",
        "imc=24\n",
        "peso=alt*imc\n",
        "peso2=round(peso,0)\n",
        "print(\"peso ideal es\",peso2)"
      ],
      "metadata": {
        "colab": {
          "base_uri": "https://localhost:8080/"
        },
        "id": "JODlf-UmFIXu",
        "outputId": "a334accf-c4ef-4999-a7a1-41878d424627"
      },
      "execution_count": 8,
      "outputs": [
        {
          "output_type": "stream",
          "name": "stdout",
          "text": [
            "ingrese altura1.70\n",
            "peso ideal es 82.0\n"
          ]
        }
      ]
    },
    {
      "cell_type": "code",
      "source": [
        "a=int(input(\"Ingrese el numero menor \"))\n",
        "b= int (input(\"Ingrese el numero menor \"))\n",
        "if (a>b):\n",
        "   print (\"error\")\n",
        "else :\n",
        "  print(\"siga en el proceso\")\n",
        "  for i in range(a,b):\n",
        "    print(i)\n",
        "\n"
      ],
      "metadata": {
        "colab": {
          "base_uri": "https://localhost:8080/"
        },
        "id": "EWp3hq9bGXzN",
        "outputId": "361469c5-9e88-4e5f-a2e9-04cc73498153"
      },
      "execution_count": 10,
      "outputs": [
        {
          "output_type": "stream",
          "name": "stdout",
          "text": [
            "Ingrese el numero menor 5\n",
            "Ingrese el numero menor 10\n",
            "siga en el proceso\n",
            "5\n",
            "6\n",
            "7\n",
            "8\n",
            "9\n"
          ]
        }
      ]
    },
    {
      "cell_type": "code",
      "source": [],
      "metadata": {
        "id": "rS9BOHBsH09k"
      },
      "execution_count": null,
      "outputs": []
    },
    {
      "cell_type": "code",
      "source": [
        "import datetime\n",
        "dia= datetime.datetime.now()\n",
        "print(dia.strftime('%d'))\n",
        "if(dia==2 or 4):\n",
        "   print (\"si hay clase\")\n",
        "else :\n",
        "  print(\"no hay clase\")\n",
        "\n"
      ],
      "metadata": {
        "colab": {
          "base_uri": "https://localhost:8080/"
        },
        "id": "WbmoeuFjJd1z",
        "outputId": "2bf78a5e-efd0-48c7-d482-1a92a61df31d"
      },
      "execution_count": 2,
      "outputs": [
        {
          "output_type": "stream",
          "name": "stdout",
          "text": [
            "04\n",
            "si hay clase\n"
          ]
        }
      ]
    },
    {
      "cell_type": "code",
      "source": [
        "print(\"Buen dia, Ingrese contraseña\")\n",
        "\n",
        "while True:\n",
        "  entrada=input(\"ingrese la contraseña : \")\n",
        "  if (entrada==\"programacion\"):\n",
        "    break\n",
        "\n"
      ],
      "metadata": {
        "colab": {
          "base_uri": "https://localhost:8080/"
        },
        "id": "lftu5iUUME97",
        "outputId": "55e1744a-884e-4b16-9a87-28e08d161508"
      },
      "execution_count": 37,
      "outputs": [
        {
          "name": "stdout",
          "output_type": "stream",
          "text": [
            "Buen dia, Ingrese contraseña\n",
            "ingrese la contraseña : paola\n",
            "ingrese la contraseña : programacion\n"
          ]
        }
      ]
    }
  ]
}