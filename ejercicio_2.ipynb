{
  "nbformat": 4,
  "nbformat_minor": 0,
  "metadata": {
    "colab": {
      "provenance": [],
      "authorship_tag": "ABX9TyPI9PpYenh3GXwvojffqAfh",
      "include_colab_link": true
    },
    "kernelspec": {
      "name": "python3",
      "display_name": "Python 3"
    },
    "language_info": {
      "name": "python"
    }
  },
  "cells": [
    {
      "cell_type": "markdown",
      "metadata": {
        "id": "view-in-github",
        "colab_type": "text"
      },
      "source": [
        "<a href=\"https://colab.research.google.com/github/paolasu/Comandos/blob/main/ejercicio_2.ipynb\" target=\"_parent\"><img src=\"https://colab.research.google.com/assets/colab-badge.svg\" alt=\"Open In Colab\"/></a>"
      ]
    },
    {
      "cell_type": "code",
      "execution_count": 1,
      "metadata": {
        "colab": {
          "base_uri": "https://localhost:8080/"
        },
        "id": "UB83JxHJsXzb",
        "outputId": "258a349e-56e7-471f-b729-cd65c648c71b"
      },
      "outputs": [
        {
          "output_type": "stream",
          "name": "stdout",
          "text": [
            "Digite la Divisa: 52\n",
            "La divisa no está en el diccionario\n",
            "Digite la Divisa: 12\n",
            "La divisa no está en el diccionario\n",
            "Digite la Divisa: dollar\n",
            "La divisa que ingreso es:  $\n"
          ]
        }
      ],
      "source": [
        "i=0\n",
        "while (i==0):\n",
        "    Diccionario={'Euro':'€', 'Dollar':'$', 'Yen':'¥'}\n",
        "    divisa = input(\"Digite la Divisa: \")\n",
        "    if divisa.title() in Diccionario:\n",
        "        print(\"La divisa que ingreso es: \" , Diccionario[divisa.title()]) \n",
        "        i=i+1\n",
        "    else:\n",
        "        print(\"La divisa no está en el diccionario\")"
      ]
    },
    {
      "cell_type": "code",
      "source": [
        "nombre=input(\"Digite su nombre: \")\n",
        "edad=input(\"Digite su edad: \")\n",
        "Direccion=input(\"Digite su dirección: \")  \n",
        "Telefono=input(\"Digite el numero de telefono: \")\n",
        "print(nombre, \"tiene \" +  edad, \"años \" + \"vive en \", Direccion + \" su numero de telefono es \", Telefono )"
      ],
      "metadata": {
        "colab": {
          "base_uri": "https://localhost:8080/"
        },
        "id": "oz51Vp40tHnc",
        "outputId": "0e4f55e1-9407-45b8-e16a-a3bd112b66a2"
      },
      "execution_count": 2,
      "outputs": [
        {
          "output_type": "stream",
          "name": "stdout",
          "text": [
            "Digite su nombre: paola\n",
            "Digite su edad: 25\n",
            "Digite su dirección: 3105586009\n",
            "Digite el numero de telefono: 321456\n",
            "paola tiene 25 años vive en  3105586009 su numero de telefono es  321456\n"
          ]
        }
      ]
    },
    {
      "cell_type": "code",
      "source": [],
      "metadata": {
        "id": "GDTHYVEMtuh5"
      },
      "execution_count": null,
      "outputs": []
    },
    {
      "cell_type": "code",
      "source": [
        "fruta = {\n",
        "            'Platano': 1.35,\n",
        "           'Manzana':0.80,\n",
        "            'Pera':0.85,\n",
        "            'Naranja': 0.70,\n",
        "            \n",
        "}\n",
        "frutas=input(\"¿Que fruta desea llevar?\")\n",
        "if frutas in fruta:\n",
        "  kg=int(input(\"¿Cuantos kilos desea llevar?\"))\n",
        "  print(kg,\"kilos de \", frutas, \"valen \",fruta[frutas]*kg, \"$\")\n",
        "\n",
        "else:\n",
        "   print(\"La fruta ingresada no se encuentra disponible\")"
      ],
      "metadata": {
        "colab": {
          "base_uri": "https://localhost:8080/"
        },
        "id": "KtQlSAEJtXYD",
        "outputId": "0f06eee9-f314-4ee3-e486-a4e289f6e27b"
      },
      "execution_count": 6,
      "outputs": [
        {
          "output_type": "stream",
          "name": "stdout",
          "text": [
            "¿Que fruta desea llevar?platano\n",
            "La fruta ingresada no se encuentra disponible\n"
          ]
        }
      ]
    },
    {
      "cell_type": "code",
      "source": [
        "listaDeCompra={}\n",
        "Articulos = None\n",
        "Precio = 0\n",
        "while True :\n",
        "  Articulos =input(\"ingrese el articulo que quiere: \")\n",
        "  if Articulos !=\"fin\":\n",
        "    precio= int (input(\"ingrese el precio del producto: \"))\n",
        "    listaDeCompra[Articulos]=Precio\n",
        "  else : \n",
        "    break\n",
        "  total = sum(list(listaDeCompra.values()))\n",
        "  print(listaDeCompra)\n",
        "  print(\"El total a pagar es: \", total)"
      ],
      "metadata": {
        "id": "5reAC7GEt-78"
      },
      "execution_count": null,
      "outputs": []
    },
    {
      "cell_type": "code",
      "source": [
        "BaseDeDatos={}\n",
        "def create():\n",
        "  Cliente={}\n",
        "  Cedula=input(\"Ingrese la cedula del cliente: \")\n",
        "  Cliente[\"Nombre\"]=input(\"Ingrese el nombre del cliente: \")\n",
        "  Cliente[\"Telefono\"]=input(\"Ingrese el numero del cliente: \")\n",
        "  Cliente[\"Dirección\"]=input(\"Ingrese la dirección del cliente: \")\n",
        "  Prefe=input(\"Escriba 'y' si el cliente es preferente: \")\n",
        "  if Prefe.lowe()=='y':\n",
        "    Cliente[\"Preferente\"]=True\n",
        "  else:\n",
        "    Cliente[\"Preferente\"]=False\n",
        "  BaseDeDatos[Cedula]=Cliente\n",
        "  print(\"create\")\n",
        "  def delete():\n",
        "    Cedula=input(\"Ingrese numero de cedula del cliente: \")\n",
        "    if Cedula in BaseDeDatos.keys():\n",
        "      del (BaseDeDatos[Cedula])\n",
        "    else:\n",
        "      print(\"No existe\")\n",
        "    print(\"delete\")\n",
        "  def show():\n",
        "    Cedula=input(\"Ingrese su cedula: \")\n",
        "    if Cedula in BaseDeDatos.keys():\n",
        "      print(BaseDeDatos[Cedula])\n",
        "    else:\n",
        "      print(\"No existe\")\n",
        "    print(\"show\")\n",
        "  def show_all():\n",
        "    print(BaseDeDatos)\n",
        "  def show_prefer():\n",
        "    for element in BaseDeDatos.values():\n",
        "      if element[\"Preferente\"]==True:\n",
        "        print(element)\n",
        "      print(\"show preferents\")\n",
        "  def end():\n",
        "    print(\"end\")\n",
        "  def default():\n",
        "    print(\"no valid op\")\n",
        "  switcher = {\n",
        "      1: create,\n",
        "      2: delete,\n",
        "      3: show,\n",
        "      4: show_all,\n",
        "      5: show_prefer,\n",
        "      6: end\n",
        "  }\n",
        "  def switch(dayOfWeek):\n",
        "    return switcher.get(dayOfWeek,default)()\n",
        "  while True:\n",
        "    opcion=int(input(\"Ingrese una opcion\\n 1. crear cliente\\n 2. borrar cliente\\n 3. mostrar cliente\\n 4. mostrar todos los clientes\\n 5. mostrar preferentes\"))\n",
        "    switch(opcion)\n",
        "\n",
        "    if opcion==6:\n",
        "      break"
      ],
      "metadata": {
        "id": "_lsqCFU3uDbD"
      },
      "execution_count": null,
      "outputs": []
    }
  ]
}